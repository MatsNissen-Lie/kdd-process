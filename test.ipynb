{
 "cells": [
  {
   "cell_type": "code",
   "execution_count": 3,
   "metadata": {},
   "outputs": [
    {
     "name": "stdout",
     "output_type": "stream",
     "text": [
      "/opt/homebrew/Caskroom/miniconda/base/envs/ag/lib/python310.zip\n",
      "/opt/homebrew/Caskroom/miniconda/base/envs/ag/lib/python3.10\n",
      "/opt/homebrew/Caskroom/miniconda/base/envs/ag/lib/python3.10/lib-dynload\n",
      "\n",
      "/opt/homebrew/Caskroom/miniconda/base/envs/ag/lib/python3.10/site-packages\n"
     ]
    }
   ],
   "source": [
    "\n",
    "test = \"data/c_e_class_financial_distress.csv\"\n",
    "\n",
    "import pandas as pd\n",
    "readfile = pd.read_csv(test)\n",
    "import sys \n",
    "\n",
    "print(\"\\n\".join(sys.path))"
   ]
  }
 ],
 "metadata": {
  "kernelspec": {
   "display_name": "ag",
   "language": "python",
   "name": "python3"
  },
  "language_info": {
   "codemirror_mode": {
    "name": "ipython",
    "version": 3
   },
   "file_extension": ".py",
   "mimetype": "text/x-python",
   "name": "python",
   "nbconvert_exporter": "python",
   "pygments_lexer": "ipython3",
   "version": "3.10.13"
  }
 },
 "nbformat": 4,
 "nbformat_minor": 2
}
