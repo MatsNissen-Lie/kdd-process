{
 "cells": [
  {
   "cell_type": "markdown",
   "metadata": {},
   "source": [
    "#### Import modules"
   ]
  },
  {
   "cell_type": "code",
   "execution_count": 7,
   "metadata": {},
   "outputs": [],
   "source": [
    "import sys\n",
    "import os\n",
    "from numpy import arange\n",
    "from pandas import read_csv, DataFrame, Series\n",
    "from matplotlib.pyplot import savefig\n",
    "from sklearn.linear_model import LinearRegression\n",
    "from sklearn.preprocessing import MinMaxScaler\n",
    "\n",
    "utils_path = os.path.abspath(os.path.join('..', 'utils'))\n",
    "sys.path.append(utils_path)\n",
    "\n",
    "from dslabs_functions import ts_aggregation_by, series_train_test_split, plot_forecasting_eval, plot_forecasting_series"
   ]
  },
  {
   "cell_type": "markdown",
   "metadata": {},
   "source": [
    "#### Load data"
   ]
  },
  {
   "cell_type": "code",
   "execution_count": 8,
   "metadata": {},
   "outputs": [
    {
     "name": "stdout",
     "output_type": "stream",
     "text": [
      "File not found\n"
     ]
    }
   ],
   "source": [
    "data_path = os.path.abspath(os.path.join('..','..', 'data_copy/forecast_ny_arrests.csv'))\n",
    "if not os.path.exists(data_path):\n",
    "    print(\"File not found\")\n",
    "    data_path = os.path.abspath(os.path.join('..','..', 'data/f_s_forecast_ny_arrests.csv'))\n",
    "\n",
    "def load_data(data_path):\n",
    "    data: DataFrame = read_csv(\n",
    "        data_path,\n",
    "        index_col=\"Date\",\n",
    "        sep=\";\",\n",
    "        decimal=\".\",\n",
    "        parse_dates=True,\n",
    "        infer_datetime_format=True,\n",
    "    )\n",
    "    return data\n",
    "\n",
    "all_data = load_data(data_path)\n",
    "file_tag = \"ARREST\"\n",
    "target = \"Manhattan\"\n",
    "\n",
    "\n",
    "\n",
    "data = all_data[[target]]\n"
   ]
  },
  {
   "cell_type": "code",
   "execution_count": 9,
   "metadata": {},
   "outputs": [],
   "source": [
    "from pandas import DataFrame\n",
    "\n",
    "def dataframe_train_test_split(data: DataFrame, trn_pct: float = 0.90) -> tuple[DataFrame, DataFrame]:\n",
    "    trn_size = int(len(data) * trn_pct)\n",
    "    train = data.iloc[:trn_size]\n",
    "    test = data.iloc[trn_size:]\n",
    "    return train, test\n"
   ]
  },
  {
   "cell_type": "markdown",
   "metadata": {},
   "source": [
    "#### Preparation"
   ]
  },
  {
   "cell_type": "code",
   "execution_count": 10,
   "metadata": {},
   "outputs": [
    {
     "name": "stdout",
     "output_type": "stream",
     "text": [
      "Index(['Manhattan'], dtype='object') Index(['Manhattan'], dtype='object')\n",
      "Index(['Bronx', 'Brooklyn', 'Queens', 'StatenIsland', 'Manhattan'], dtype='object') Index(['Bronx', 'Brooklyn', 'Queens', 'StatenIsland', 'Manhattan'], dtype='object')\n"
     ]
    }
   ],
   "source": [
    "import pandas as pd\n",
    "\n",
    "def data_preparation(data):\n",
    "    # Missing value \n",
    "    data: DataFrame = data.dropna(how=\"any\", inplace=False) \n",
    "    # Train/test split\n",
    "    train, test = dataframe_train_test_split(data)   \n",
    "    \n",
    "    # Scaling\n",
    "    transf: MinMaxScaler = MinMaxScaler(feature_range=(0, 1), copy=True).fit(train)\n",
    "    train_scaled = DataFrame(transf.transform(train), index=train.index, columns=train.columns)\n",
    "    test_scaled = DataFrame(transf.transform(test), index=test.index, columns=test.columns) \n",
    "\n",
    "    # Smoothing\n",
    "    WIN_SIZE = 10\n",
    "    train_smooth: Series = train_scaled.rolling(window=WIN_SIZE).mean()\n",
    "    train_smooth = train_smooth.dropna()\n",
    "\n",
    "    # Differentiation\n",
    "    train_diff: Series = train_smooth.diff()\n",
    "    train_diff = train_diff.dropna()\n",
    "    test_diff: Series = test_scaled.diff()\n",
    "    test_diff = test_diff.dropna()\n",
    "\n",
    "    return train_diff, test_diff\n",
    "    \n",
    "    \n",
    "train, test = data_preparation(data)\n",
    "\n",
    "train_all, test_all = data_preparation(all_data)\n",
    "\n",
    "\n",
    "print(train.columns, test.columns)\n",
    "print(train_all.columns, test_all.columns)"
   ]
  }
 ],
 "metadata": {
  "kernelspec": {
   "display_name": "ag",
   "language": "python",
   "name": "python3"
  },
  "language_info": {
   "codemirror_mode": {
    "name": "ipython",
    "version": 3
   },
   "file_extension": ".py",
   "mimetype": "text/x-python",
   "name": "python",
   "nbconvert_exporter": "python",
   "pygments_lexer": "ipython3",
   "version": "3.10.13"
  }
 },
 "nbformat": 4,
 "nbformat_minor": 2
}
