{
 "cells": [
  {
   "cell_type": "code",
   "execution_count": 11,
   "metadata": {},
   "outputs": [
    {
     "name": "stdout",
     "output_type": "stream",
     "text": [
      "The autoreload extension is already loaded. To reload it, use:\n",
      "  %reload_ext autoreload\n",
      "project_dir:  /Users/hugojarudd/Desktop/kdd-process/src\n"
     ]
    }
   ],
   "source": [
    "%load_ext autoreload\n",
    "%autoreload 2\n",
    "\n",
    "from pathlib import Path\n",
    "import sys\n",
    "\n",
    "# Add the project directory to sys.path\n",
    "project_dir = Path.cwd().parent  # Adjust as needed to point to your project root\n",
    "sys.path.append(str(project_dir))\n",
    "\n",
    "print(\"project_dir: \", project_dir)\n",
    "from utils.pipeline_fixed import Pipeline, EvaluationEnum\n",
    "\n",
    "dataloader = Pipeline(evaluation=EvaluationEnum.BALANCE)\n",
    "\n",
    "file_tag = \"security\"\n",
    "eval_metric = \"accuracy\"\n",
    "\n",
    "trnX, tstX, trnY, tstY, target, labels = dataloader.get_security_classification_train_test()"
   ]
  },
  {
   "cell_type": "code",
   "execution_count": 12,
   "metadata": {},
   "outputs": [],
   "source": [
    "from pandas import DataFrame, Index, read_csv\n",
    "from dslabs_functions import (\n",
    "    select_low_variance_variables,\n",
    "    study_variance_for_feature_selection,\n",
    "    apply_feature_selection,\n",
    "    select_redundant_variables,\n",
    "    study_redundancy_for_feature_selection,\n",
    ")\n",
    "from pandas import Series, DataFrame\n",
    "from math import ceil\n",
    "from matplotlib.pyplot import savefig, show, figure\n",
    "from dslabs_functions import HEIGHT, evaluate_approach, plot_multiline_chart\n",
    "import pandas as pd\n",
    "from sklearn.model_selection import train_test_split\n"
   ]
  },
  {
   "cell_type": "code",
   "execution_count": 13,
   "metadata": {},
   "outputs": [],
   "source": [
    "\n",
    "train = pd.concat([trnX, trnY], axis=1)\n",
    "test = pd.concat([tstX, tstY], axis=1)"
   ]
  },
  {
   "cell_type": "markdown",
   "metadata": {},
   "source": [
    "# Correlation analysis"
   ]
  },
  {
   "cell_type": "code",
   "execution_count": 14,
   "metadata": {},
   "outputs": [
    {
     "data": {
      "image/png": "[encoded data removed]",
      "text/plain": [
       "<Figure size 800x400 with 1 Axes>"
      ]
     },
     "metadata": {},
     "output_type": "display_data"
    }
   ],
   "source": [
    "def study_redundancy_for_feature_selection(\n",
    "    train: DataFrame,\n",
    "    test: DataFrame,\n",
    "    target: str = \"CLASS__security\",\n",
    "    min_threshold: float = 0.90,\n",
    "    lag: float = 0.05,\n",
    "    metric: str = \"accuracy\",\n",
    "    file_tag: str = \"\",\n",
    ") -> dict:\n",
    "    options: list[float] = [\n",
    "        round(min_threshold + i * lag, 3)\n",
    "        for i in range(ceil((1 - min_threshold) / lag) + 1)\n",
    "    ]\n",
    "\n",
    "    df: DataFrame = train.drop(target, axis=1, inplace=False)\n",
    "    corr_matrix: DataFrame = abs(df.corr())\n",
    "    variables: Index[str] = corr_matrix.columns\n",
    "    results: dict[str, list] = {\"NB\": [], \"KNN\": []}\n",
    "    for thresh in options:\n",
    "        vars2drop: list = []\n",
    "        for v1 in variables:\n",
    "            vars_corr: Series = (corr_matrix[v1]).loc[corr_matrix[v1] >= thresh]\n",
    "            vars_corr.drop(v1, inplace=True)\n",
    "            if len(vars_corr) > 1:\n",
    "                lst_corr = list(vars_corr.index)\n",
    "                for v2 in lst_corr:\n",
    "                    if v2 not in vars2drop:\n",
    "                        vars2drop.append(v2)\n",
    "\n",
    "        train_copy: DataFrame = train.drop(vars2drop, axis=1, inplace=False)\n",
    "        test_copy: DataFrame = test.drop(vars2drop, axis=1, inplace=False)\n",
    "        eval: dict | None = evaluate_approach(\n",
    "            train_copy, test_copy, target=target, metric=metric\n",
    "        )\n",
    "        if eval is not None:\n",
    "            results[\"NB\"].append(eval[metric][0])\n",
    "            results[\"KNN\"].append(eval[metric][1])\n",
    "\n",
    "    plot_multiline_chart(\n",
    "        options,\n",
    "        results,\n",
    "        title=f\"{file_tag} redundancy study ({metric})\",\n",
    "        xlabel=\"correlation threshold\",\n",
    "        ylabel=metric,\n",
    "        percentage=True,\n",
    "    )\n",
    "    savefig(f\"images/{file_tag}_fs_redundancy_{metric}_study.png\")\n",
    "    return results\n",
    "\n",
    "\n",
    "eval_metric = \"f1\"\n",
    "\n",
    "figure(figsize=(2 * HEIGHT, HEIGHT))\n",
    "study_redundancy_for_feature_selection(\n",
    "    train,\n",
    "    test,\n",
    "    target=target,\n",
    "    min_threshold=0.25,\n",
    "    lag=0.05,\n",
    "    metric=eval_metric,\n",
    "    file_tag=file_tag,\n",
    ")\n",
    "show()\n"
   ]
  },
  {
   "cell_type": "markdown",
   "metadata": {},
   "source": [
    " Since the lines are constant after 0.4, variables with higher correlation than this will be dropped "
   ]
  },
  {
   "cell_type": "code",
   "execution_count": 15,
   "metadata": {},
   "outputs": [
    {
     "name": "stdout",
     "output_type": "stream",
     "text": [
      "Original variables ['PD_CD' 'KY_CD' 'OFNS_DESC' 'LAW_CODE' 'LAW_CAT_CD' 'ARREST_BORO'\n",
      " 'ARREST_PRECINCT' 'AGE_GROUP' 'PERP_SEX' 'PERP_RACE' 'Latitude'\n",
      " 'Longitude' 'YEAR' 'MONTH' 'DAY_OF_WEEK' 'IS_WEEKEND' 'DAY_OF_YEAR_sin'\n",
      " 'DAY_OF_YEAR_cos' 'CLASS__security']\n",
      "Variables to drop ['ARREST_PRECINCT', 'Longitude']\n"
     ]
    }
   ],
   "source": [
    "def select_redundant_variables(\n",
    "    data: DataFrame, min_threshold: float = 0.90, target: str = \"CLASS__security\"\n",
    ") -> list:\n",
    "    df: DataFrame = data.drop(target, axis=1, inplace=False)\n",
    "    corr_matrix: DataFrame = abs(df.corr())\n",
    "    variables: Index[str] = corr_matrix.columns\n",
    "    vars2drop: list = []\n",
    "    for v1 in variables:\n",
    "        vars_corr: Series = (corr_matrix[v1]).loc[corr_matrix[v1] >= min_threshold]\n",
    "        vars_corr.drop(v1, inplace=True)\n",
    "        if len(vars_corr) > 1:\n",
    "            lst_corr = list(vars_corr.index)\n",
    "            for v2 in lst_corr:\n",
    "                if v2 not in vars2drop:\n",
    "                    vars2drop.append(v2)\n",
    "    return vars2drop\n",
    "\n",
    "\n",
    "print(\"Original variables\", train.columns.values)\n",
    "vars2drop: list[str] = select_redundant_variables(\n",
    "    train, target=target, min_threshold=0.4\n",
    ")\n",
    "print(\"Variables to drop\", sorted(vars2drop))"
   ]
  },
  {
   "cell_type": "code",
   "execution_count": 16,
   "metadata": {},
   "outputs": [],
   "source": [
    "train = train.drop(columns=vars2drop)\n",
    "test = test.drop(columns=vars2drop)"
   ]
  },
  {
   "cell_type": "markdown",
   "metadata": {},
   "source": [
    "# Variability analysis"
   ]
  },
  {
   "cell_type": "code",
   "execution_count": 17,
   "metadata": {},
   "outputs": [
    {
     "name": "stdout",
     "output_type": "stream",
     "text": [
      "Original variables ['PD_CD', 'KY_CD', 'OFNS_DESC', 'LAW_CODE', 'LAW_CAT_CD', 'ARREST_BORO', 'AGE_GROUP', 'PERP_SEX', 'PERP_RACE', 'Latitude', 'YEAR', 'MONTH', 'DAY_OF_WEEK', 'IS_WEEKEND', 'DAY_OF_YEAR_sin', 'DAY_OF_YEAR_cos', 'CLASS__security']\n",
      "Variables to drop ['PD_CD', 'KY_CD', 'OFNS_DESC', 'LAW_CAT_CD', 'ARREST_BORO', 'AGE_GROUP', 'PERP_SEX', 'PERP_RACE', 'Latitude', 'YEAR', 'MONTH', 'DAY_OF_WEEK', 'IS_WEEKEND', 'DAY_OF_YEAR_sin', 'DAY_OF_YEAR_cos']\n"
     ]
    }
   ],
   "source": [
    "from pandas import DataFrame, Index, read_csv\n",
    "from dslabs_functions import (\n",
    "    select_low_variance_variables,\n",
    "    study_variance_for_feature_selection,\n",
    "    apply_feature_selection,\n",
    "    select_redundant_variables,\n",
    "    study_redundancy_for_feature_selection,\n",
    ")\n",
    "\n",
    "\n",
    "def select_low_variance_variables(\n",
    "    data: DataFrame, max_threshold: float, target: str = \"CLASS\"\n",
    ") -> list:\n",
    "    summary5: DataFrame = data.describe()\n",
    "    vars2drop: Index[str] = summary5.columns[\n",
    "        summary5.loc[\"std\"] * summary5.loc[\"std\"] < max_threshold\n",
    "    ]\n",
    "    vars2drop = vars2drop.drop(target) if target in vars2drop else vars2drop\n",
    "    return list(vars2drop.values)\n",
    "\n",
    "\n",
    "\n",
    "print(\"Original variables\", train.columns.to_list())\n",
    "vars2drop: list[str] = select_low_variance_variables(train, 1.2, target=target)\n",
    "print(\"Variables to drop\", vars2drop)"
   ]
  },
  {
   "cell_type": "code",
   "execution_count": 18,
   "metadata": {},
   "outputs": [
    {
     "data": {
      "image/png": "[encoded data removed]",
      "text/plain": [
       "<Figure size 800x400 with 1 Axes>"
      ]
     },
     "metadata": {},
     "output_type": "display_data"
    }
   ],
   "source": [
    "from math import ceil\n",
    "from matplotlib.pyplot import savefig, show, figure\n",
    "from dslabs_functions import HEIGHT, evaluate_approach, plot_multiline_chart\n",
    "\n",
    "\n",
    "def study_variance_for_feature_selection(\n",
    "    train: DataFrame,\n",
    "    test: DataFrame,\n",
    "    target: str = \"CLASS\",\n",
    "    max_threshold: float = 1,\n",
    "    lag: float = 0.05,\n",
    "    metric: str = \"accuracy\",\n",
    "    #file_tag: str = \"\",\n",
    ") -> dict:\n",
    "    options: list[float] = [\n",
    "        round(i * lag, 3) for i in range(1, ceil(max_threshold / lag + lag))\n",
    "    ]\n",
    "    results: dict[str, list] = {\"NB\": [], \"KNN\": []}\n",
    "    summary5: DataFrame = train.describe()\n",
    "    for thresh in options:\n",
    "        vars2drop: Index[str] = summary5.columns[\n",
    "            summary5.loc[\"std\"] * summary5.loc[\"std\"] < thresh\n",
    "        ]\n",
    "        vars2drop = vars2drop.drop(target) if target in vars2drop else vars2drop\n",
    "\n",
    "        train_copy: DataFrame = train.drop(vars2drop, axis=1, inplace=False)\n",
    "        test_copy: DataFrame = test.drop(vars2drop, axis=1, inplace=False)\n",
    "        eval: dict[str, list] | None = evaluate_approach(\n",
    "            train_copy, test_copy, target=target, metric=metric\n",
    "        )\n",
    "        if eval is not None:\n",
    "            results[\"NB\"].append(eval[metric][0])\n",
    "            results[\"KNN\"].append(eval[metric][1])\n",
    "\n",
    "    plot_multiline_chart(\n",
    "        options,\n",
    "        results,\n",
    "        title=f\"{file_tag} variance study ({metric})\",\n",
    "        xlabel=\"variance threshold\",\n",
    "        ylabel=metric,\n",
    "        percentage=True,\n",
    "    )\n",
    "    savefig(f\"images/{file_tag}_fs_low_var_{metric}_study.png\")\n",
    "    return results\n",
    "\n",
    "\n",
    "eval_metric = \"f1\"\n",
    "\n",
    "\n",
    "\n",
    "\n",
    "figure(figsize=(2 * HEIGHT, HEIGHT))\n",
    "study_variance_for_feature_selection(\n",
    "    train,\n",
    "    test,\n",
    "    target=target,\n",
    "    max_threshold=1.5,\n",
    "    lag=0.1,\n",
    "    metric=eval_metric,\n",
    "    #file_tag=file_tag,\n",
    ")\n",
    "show()\n"
   ]
  },
  {
   "cell_type": "markdown",
   "metadata": {},
   "source": [
    "Since the NB model sees a sharp increase in performance when variables with variance under 1.2 are dropped, these will be dropped."
   ]
  }
 ],
 "metadata": {
  "kernelspec": {
   "display_name": "datasci",
   "language": "python",
   "name": "python3"
  },
  "language_info": {
   "codemirror_mode": {
    "name": "ipython",
    "version": 3
   },
   "file_extension": ".py",
   "mimetype": "text/x-python",
   "name": "python",
   "nbconvert_exporter": "python",
   "pygments_lexer": "ipython3",
   "version": "3.11.11"
  }
 },
 "nbformat": 4,
 "nbformat_minor": 2
}
