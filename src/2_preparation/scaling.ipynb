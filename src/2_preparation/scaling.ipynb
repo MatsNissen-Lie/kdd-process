{
 "cells": [
  {
   "cell_type": "code",
   "execution_count": null,
   "metadata": {},
   "outputs": [],
   "source": [
    "%load_ext autoreload\n",
    "%autoreload 2\n",
    "\n",
    "from pathlib import Path\n",
    "import sys\n",
    "from pandas import DataFrame,Series\n",
    "\n",
    "\n",
    "# Add the project directory to sys.path\n",
    "project_dir = Path.cwd().parent  # Adjust as needed to point to your project root\n",
    "sys.path.append(str(project_dir))\n",
    "\n",
    "print(\"project_dir: \", project_dir)\n",
    "# Import the module\n",
    "from utils.pipeline import Pipeline\n",
    "from utils.dslabs_functions import NR_STDEV, get_variable_types, determine_outlier_thresholds_for_var\n",
    "\n",
    "dataloader = Pipeline()\n",
    "\n",
    "\n",
    "data, target = dataloader.get_security_classification_dataset_and_target()"
   ]
  }
 ],
 "metadata": {
  "kernelspec": {
   "display_name": "ag",
   "language": "python",
   "name": "python3"
  },
  "language_info": {
   "name": "python",
   "version": "3.10.13"
  }
 },
 "nbformat": 4,
 "nbformat_minor": 2
}
